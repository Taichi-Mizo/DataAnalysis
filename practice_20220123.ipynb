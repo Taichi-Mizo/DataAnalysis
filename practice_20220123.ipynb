{
 "cells": [
  {
   "cell_type": "code",
   "execution_count": null,
   "id": "e20fc3af",
   "metadata": {},
   "outputs": [],
   "source": [
    "import sklearn.datasets as ds\n",
    "import pandas as pd\n",
    "\n",
    "#ボストンの住宅価格(Toy dataset, 回帰分析用)\n",
    "data_boston = ds.load_boston()\n",
    "\n",
    "\n",
    "#pandas.DataFrameとして読み込み\n",
    "df_boston = pd.DataFrame(data_boston、columns=data.feature_names)\n",
    "print(df_boston.head())"
   ]
  },
  {
   "cell_type": "code",
   "execution_count": null,
   "id": "4188ed7b",
   "metadata": {},
   "outputs": [],
   "source": []
  },
  {
   "cell_type": "code",
   "execution_count": null,
   "id": "e92d558c",
   "metadata": {},
   "outputs": [],
   "source": []
  }
 ],
 "metadata": {
  "kernelspec": {
   "display_name": "Python 3 (ipykernel)",
   "language": "python",
   "name": "python3"
  },
  "language_info": {
   "codemirror_mode": {
    "name": "ipython",
    "version": 3
   },
   "file_extension": ".py",
   "mimetype": "text/x-python",
   "name": "python",
   "nbconvert_exporter": "python",
   "pygments_lexer": "ipython3",
   "version": "3.9.7"
  }
 },
 "nbformat": 4,
 "nbformat_minor": 5
}
